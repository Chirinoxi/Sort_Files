{
 "cells": [
  {
   "cell_type": "markdown",
   "metadata": {},
   "source": [
    "## Importamos Librerías"
   ]
  },
  {
   "cell_type": "code",
   "execution_count": 237,
   "metadata": {},
   "outputs": [],
   "source": [
    "import os\n",
    "import sys\n",
    "import numpy as np\n",
    "from pathlib import Path"
   ]
  },
  {
   "cell_type": "markdown",
   "metadata": {},
   "source": [
    "## Creamos un procedimiento para crear carpetas en un directorio dado"
   ]
  },
  {
   "cell_type": "code",
   "execution_count": 238,
   "metadata": {},
   "outputs": [],
   "source": [
    "def createFolder(path):\n",
    "    if not os.path.exists(path):\n",
    "        os.makedirs(path)\n",
    "    else:\n",
    "        print(f\"This folder already exists in the directory {os.getcwd()}\")"
   ]
  },
  {
   "cell_type": "code",
   "execution_count": 239,
   "metadata": {},
   "outputs": [],
   "source": [
    "def deleteFolder(path):\n",
    "    if os.path.exists(path):\n",
    "        os.removedirs(path)"
   ]
  },
  {
   "cell_type": "code",
   "execution_count": 240,
   "metadata": {},
   "outputs": [],
   "source": [
    "def changeCWD(path):\n",
    "    if os.path.exists(path):\n",
    "        os.chdir(path)\n",
    "        print(f\"The current working directory is {os.getcwd()} ! \\n\")\n",
    "    else:\n",
    "        print(\"The given path doesn't exists !!\")"
   ]
  },
  {
   "cell_type": "code",
   "execution_count": 241,
   "metadata": {
    "tags": []
   },
   "outputs": [
    {
     "name": "stdout",
     "output_type": "stream",
     "text": [
      "The current working directory is /home/ignacio/Descargas ! \n",
      "\n"
     ]
    }
   ],
   "source": [
    "changeCWD('/media/ignacio/2796-251D')"
   ]
  },
  {
   "cell_type": "code",
   "execution_count": 242,
   "metadata": {},
   "outputs": [],
   "source": [
    "def listFiles(path):\n",
    "    files = [i for i in os.listdir(path) if os.path.isfile(i)]\n",
    "    print(files)\n",
    "    return files"
   ]
  },
  {
   "cell_type": "code",
   "execution_count": 243,
   "metadata": {},
   "outputs": [],
   "source": [
    "def getExtensionFiles(myFiles):\n",
    "\n",
    "    extensions = []\n",
    "\n",
    "    for file in myFiles:\n",
    "        extensions.append(Path(file).suffix.lower())\n",
    "    \n",
    "    return extensions"
   ]
  },
  {
   "cell_type": "code",
   "execution_count": 244,
   "metadata": {
    "tags": []
   },
   "outputs": [
    {
     "name": "stdout",
     "output_type": "stream",
     "text": [
      "['29059.png']\n"
     ]
    }
   ],
   "source": [
    "myFiles = listFiles(os.getcwd())"
   ]
  },
  {
   "cell_type": "code",
   "execution_count": 245,
   "metadata": {
    "tags": []
   },
   "outputs": [],
   "source": [
    "#print(myFiles)"
   ]
  },
  {
   "cell_type": "code",
   "execution_count": 246,
   "metadata": {
    "tags": []
   },
   "outputs": [],
   "source": [
    "myExtensions = getExtensionFiles(myFiles)"
   ]
  },
  {
   "cell_type": "markdown",
   "metadata": {},
   "source": [
    "### Filtramos la lista eliminando los string's vacios"
   ]
  },
  {
   "cell_type": "code",
   "execution_count": 247,
   "metadata": {},
   "outputs": [],
   "source": [
    "filteredExtensionList = list(filter(None, myExtensions))"
   ]
  },
  {
   "cell_type": "code",
   "execution_count": 248,
   "metadata": {},
   "outputs": [],
   "source": [
    "#filteredExtensionList"
   ]
  },
  {
   "cell_type": "code",
   "execution_count": 249,
   "metadata": {},
   "outputs": [],
   "source": [
    "uniqueExtensions = np.unique(ar=filteredExtensionList, return_counts=False)"
   ]
  },
  {
   "cell_type": "code",
   "execution_count": 250,
   "metadata": {},
   "outputs": [],
   "source": [
    "def createFolders(path, extensions):\n",
    "\n",
    "    for i in extensions:\n",
    "        i = i[1:]\n",
    "        new_path = path + \"/\" +i\n",
    "        createFolder(new_path)"
   ]
  },
  {
   "cell_type": "code",
   "execution_count": 251,
   "metadata": {
    "tags": []
   },
   "outputs": [],
   "source": [
    "createFolders(os.getcwd(), uniqueExtensions)"
   ]
  },
  {
   "cell_type": "markdown",
   "metadata": {},
   "source": [
    "## Creamos un método para mover los archivos desde un directorio de origen a uno de destino"
   ]
  },
  {
   "cell_type": "code",
   "execution_count": 252,
   "metadata": {},
   "outputs": [],
   "source": [
    "def moveFiles(path, files):\n",
    "    for file in files:\n",
    "        extensionFile = file.split(\".\")[-1].lower()\n",
    "        origin = path + \"/\" + file\n",
    "        destiny = path + \"/\" + extensionFile + \"/\" + file\n",
    "        os.rename(origin, destiny)"
   ]
  },
  {
   "cell_type": "code",
   "execution_count": 253,
   "metadata": {
    "tags": []
   },
   "outputs": [],
   "source": [
    "moveFiles(os.getcwd(), myFiles)"
   ]
  },
  {
   "cell_type": "code",
   "execution_count": null,
   "metadata": {},
   "outputs": [],
   "source": []
  }
 ],
 "metadata": {
  "kernelspec": {
   "display_name": "Dscience",
   "language": "python",
   "name": "dscience"
  },
  "language_info": {
   "codemirror_mode": {
    "name": "ipython",
    "version": 3
   },
   "file_extension": ".py",
   "mimetype": "text/x-python",
   "name": "python",
   "nbconvert_exporter": "python",
   "pygments_lexer": "ipython3",
   "version": "3.6.5"
  }
 },
 "nbformat": 4,
 "nbformat_minor": 2
}
