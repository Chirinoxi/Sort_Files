{
 "cells": [
  {
   "cell_type": "markdown",
   "metadata": {},
   "source": [
    "## Importamos Librerías"
   ]
  },
  {
   "cell_type": "code",
   "execution_count": 1,
   "metadata": {},
   "outputs": [],
   "source": [
    "import os\n",
    "import sys\n",
    "import numpy as np\n",
    "from pathlib import Path"
   ]
  },
  {
   "cell_type": "code",
   "execution_count": 2,
   "metadata": {},
   "outputs": [
    {
     "output_type": "execute_result",
     "data": {
      "text/plain": "'1.18.4'"
     },
     "metadata": {},
     "execution_count": 2
    }
   ],
   "source": [
    "np.__version__"
   ]
  },
  {
   "cell_type": "markdown",
   "metadata": {},
   "source": [
    "## Creamos un procedimiento para crear carpetas en un directorio dado"
   ]
  },
  {
   "cell_type": "code",
   "execution_count": 62,
   "metadata": {},
   "outputs": [],
   "source": [
    "def createFolder(path):\n",
    "    if not os.path.exists(path):\n",
    "        os.makedirs(path)\n",
    "    else:\n",
    "        print(f\"This folder already exists in the directory {os.getcwd()}\")"
   ]
  },
  {
   "cell_type": "code",
   "execution_count": 63,
   "metadata": {},
   "outputs": [],
   "source": [
    "def deleteFolder(path):\n",
    "    if os.path.exists(path):\n",
    "        os.removedirs(path)"
   ]
  },
  {
   "cell_type": "code",
   "execution_count": 64,
   "metadata": {},
   "outputs": [],
   "source": [
    "def changeCWD(path):\n",
    "    if os.path.exists(path):\n",
    "        os.chdir(path)\n",
    "        print(f\"The current working directory is {os.getcwd()} ! \\n\")\n",
    "        return True\n",
    "    else:\n",
    "        print(\"The given path doesn't exists, try again !!\")\n",
    "        return False"
   ]
  },
  {
   "cell_type": "code",
   "execution_count": 65,
   "metadata": {},
   "outputs": [],
   "source": [
    "def readDirectory():\n",
    "    your_directory = input(\"Enter the directory you want to order (A valid directory) :\")\n",
    "    while(changeCWD(your_directory) == False):\n",
    "        your_directory = input(\"Enter the directory you want to order (A valid directory) :\")\n",
    "    return your_directory"
   ]
  },
  {
   "cell_type": "code",
   "execution_count": 66,
   "metadata": {
    "tags": []
   },
   "outputs": [
    {
     "output_type": "stream",
     "name": "stdout",
     "text": "The current working directory is /home/ignacio/Documentos/Data Science/OS ! \n\n"
    }
   ],
   "source": [
    "workDirectory = readDirectory()"
   ]
  },
  {
   "cell_type": "code",
   "execution_count": 67,
   "metadata": {
    "tags": []
   },
   "outputs": [
    {
     "output_type": "stream",
     "name": "stdout",
     "text": "The current work directory is /home/ignacio/Documentos/Data Science/OS\nEl directorio actual de trabajo es /home/ignacio/Documentos/Data Science/OS\n"
    }
   ],
   "source": [
    "print(f\"The current work directory is {workDirectory}\")\n",
    "print(f\"El directorio actual de trabajo es {workDirectory}\")"
   ]
  },
  {
   "cell_type": "code",
   "execution_count": 68,
   "metadata": {},
   "outputs": [],
   "source": [
    "def listFiles(path):\n",
    "    files = [i for i in os.listdir(path) if os.path.isfile(i)]\n",
    "    print(files)\n",
    "    return files"
   ]
  },
  {
   "cell_type": "code",
   "execution_count": 69,
   "metadata": {},
   "outputs": [],
   "source": [
    "def getExtensionFiles(myFiles):\n",
    "\n",
    "    extensions = []\n",
    "\n",
    "    for file in myFiles:\n",
    "        extensions.append(Path(file).suffix.lower())\n",
    "    \n",
    "    return extensions"
   ]
  },
  {
   "cell_type": "code",
   "execution_count": 70,
   "metadata": {
    "tags": []
   },
   "outputs": [
    {
     "output_type": "stream",
     "name": "stdout",
     "text": "[]\n/home/ignacio/Documentos/Data Science/OS\n"
    }
   ],
   "source": [
    "myFiles = listFiles(os.getcwd())\n",
    "print(os.getcwd())"
   ]
  },
  {
   "cell_type": "code",
   "execution_count": 71,
   "metadata": {
    "tags": []
   },
   "outputs": [],
   "source": [
    "#print(myFiles)"
   ]
  },
  {
   "cell_type": "code",
   "execution_count": 72,
   "metadata": {
    "tags": []
   },
   "outputs": [],
   "source": [
    "myExtensions = getExtensionFiles(myFiles)"
   ]
  },
  {
   "cell_type": "markdown",
   "metadata": {},
   "source": [
    "### Filtramos la lista eliminando los string's vacios"
   ]
  },
  {
   "cell_type": "code",
   "execution_count": 73,
   "metadata": {},
   "outputs": [],
   "source": [
    "filteredExtensionList = list(filter(None, myExtensions))"
   ]
  },
  {
   "cell_type": "code",
   "execution_count": 74,
   "metadata": {},
   "outputs": [],
   "source": [
    "#filteredExtensionList"
   ]
  },
  {
   "cell_type": "code",
   "execution_count": 75,
   "metadata": {},
   "outputs": [],
   "source": [
    "uniqueExtensions = np.unique(ar=filteredExtensionList, return_counts=False)"
   ]
  },
  {
   "cell_type": "code",
   "execution_count": 76,
   "metadata": {},
   "outputs": [],
   "source": [
    "def createFolders(path, extensions):\n",
    "\n",
    "    for i in extensions:\n",
    "        i = i[1:]\n",
    "        new_path = path + \"/\" +i\n",
    "        createFolder(new_path)"
   ]
  },
  {
   "cell_type": "code",
   "execution_count": 77,
   "metadata": {
    "tags": []
   },
   "outputs": [],
   "source": [
    "createFolders(os.getcwd(), uniqueExtensions)"
   ]
  },
  {
   "cell_type": "markdown",
   "metadata": {},
   "source": [
    "## Creamos un método para mover los archivos desde un directorio de origen a uno de destino"
   ]
  },
  {
   "cell_type": "code",
   "execution_count": 78,
   "metadata": {},
   "outputs": [],
   "source": [
    "def moveFiles(path, files):\n",
    "    for file in files:\n",
    "        extensionFile = file.split(\".\")[-1].lower()\n",
    "        origin = path + \"/\" + file\n",
    "        destiny = path + \"/\" + extensionFile + \"/\" + file\n",
    "        os.rename(origin, destiny)"
   ]
  },
  {
   "cell_type": "code",
   "execution_count": 79,
   "metadata": {
    "tags": []
   },
   "outputs": [],
   "source": [
    "moveFiles(os.getcwd(), myFiles)"
   ]
  },
  {
   "cell_type": "code",
   "execution_count": null,
   "metadata": {},
   "outputs": [],
   "source": []
  }
 ],
 "metadata": {
  "language_info": {
   "codemirror_mode": {
    "name": "ipython",
    "version": 3
   },
   "file_extension": ".py",
   "mimetype": "text/x-python",
   "name": "python",
   "nbconvert_exporter": "python",
   "pygments_lexer": "ipython3",
   "version": "3.6.5-final"
  },
  "orig_nbformat": 2,
  "kernelspec": {
   "name": "dscience",
   "display_name": "Dscience"
  }
 },
 "nbformat": 4,
 "nbformat_minor": 2
}